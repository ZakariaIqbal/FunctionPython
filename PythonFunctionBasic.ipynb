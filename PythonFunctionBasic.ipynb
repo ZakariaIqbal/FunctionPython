{
  "nbformat": 4,
  "nbformat_minor": 0,
  "metadata": {
    "colab": {
      "provenance": []
    },
    "kernelspec": {
      "name": "python3",
      "display_name": "Python 3"
    },
    "language_info": {
      "name": "python"
    }
  },
  "cells": [
    {
      "cell_type": "markdown",
      "source": [
        "# 🧠 What is a Function in Python?\n",
        "A function is a reusable block of code that performs a specific task.\n",
        "\n",
        "You define it once and call it multiple times.\n",
        "\n",
        "It helps organize code, avoid repetition, and improve readability.\n",
        "\n"
      ],
      "metadata": {
        "id": "5D8op8882uoz"
      }
    },
    {
      "cell_type": "code",
      "source": [
        "def Name(name):\n",
        "  ''' This is a function to print name. this is a doc string '''\n",
        "  print('My Name is ' + str(name))\n",
        "\n",
        "Name('Zakaria')\n",
        "Name ('Sakib')"
      ],
      "metadata": {
        "colab": {
          "base_uri": "https://localhost:8080/"
        },
        "id": "LesvcYtN2vbo",
        "outputId": "4e399064-61e4-4a21-90bd-929229e2b625"
      },
      "execution_count": 5,
      "outputs": [
        {
          "output_type": "stream",
          "name": "stdout",
          "text": [
            "My Name is Zakaria\n",
            "My Name is Sakib\n"
          ]
        }
      ]
    },
    {
      "cell_type": "markdown",
      "source": [
        "1. Keyword 'Def' marks the start  of Function header.\n",
        "2. Parameters (arguments) through which we pass values to a function .They are optional .\n",
        "3. A Colon(:)to mark the end of function header.\n",
        "4. Doc string describe what the function does .This is optional\n",
        "5. 'return'statement to return a value from the function .This is optional."
      ],
      "metadata": {
        "id": "o-Wi9-7u4aEo"
      }
    },
    {
      "cell_type": "code",
      "source": [
        "print(Name.__doc__)"
      ],
      "metadata": {
        "colab": {
          "base_uri": "https://localhost:8080/"
        },
        "id": "gR2Tm0o64Ryh",
        "outputId": "cff3dea5-243e-496b-fd49-c6c794895502"
      },
      "execution_count": 6,
      "outputs": [
        {
          "output_type": "stream",
          "name": "stdout",
          "text": [
            " This is a function to print name\n",
            "  this is a doc string\n",
            "  \n"
          ]
        }
      ]
    },
    {
      "cell_type": "markdown",
      "source": [
        "#  Scope of Variables\n",
        "Scope defines where a variable can be accessed in your code.\n",
        "\n",
        "\n",
        "\n",
        "🔸 Local Scope: Variable declared inside a function — accessible only within that function.\n",
        "\n",
        "🔸 Global Scope: Variable declared outside any function — accessible anywhere in the file.\n",
        "\n",
        "🔸 Enclosed Scope: Inner function accesses variables from its outer function (used in nested functions).\n",
        "\n",
        "🔸 Built-in Scope: Includes Python's reserved keywords and built-in functions (e.g., len, print).\n",
        "\n",
        "✅ Python uses the LEGB Rule to resolve variable names:\n",
        "Local → Enclosed → Global → Built-in\n",
        "\n",
        "#  Lifetime of Variables\n",
        "Lifetime is the duration a variable exists in memory.\n",
        "\n",
        "Local variables: Exist only during function execution — destroyed after the function ends.\n",
        "\n",
        "Global variables: Exist as long as the program runs.\n",
        "\n",
        "Memory is automatically managed by Python’s garbage collector."
      ],
      "metadata": {
        "id": "3s-9U_6PAStf"
      }
    },
    {
      "cell_type": "code",
      "source": [
        "x = 10  # Global variable\n",
        "\n",
        "def my_function():\n",
        "    x = 5  # Local variable (only inside this function)\n",
        "    print(\"Inside function, x =\", x)\n",
        "\n",
        "my_function()\n",
        "print(\"Outside function, x =\", x)\n"
      ],
      "metadata": {
        "colab": {
          "base_uri": "https://localhost:8080/"
        },
        "id": "HxiBXdnrL4pO",
        "outputId": "8c61bc62-d805-4fde-a3ed-f3cec1ba9124"
      },
      "execution_count": 9,
      "outputs": [
        {
          "output_type": "stream",
          "name": "stdout",
          "text": [
            "Inside function, x = 5\n",
            "Outside function, x = 10\n"
          ]
        }
      ]
    },
    {
      "cell_type": "markdown",
      "source": [
        "\n",
        "\n",
        "---\n",
        "# HCF\n",
        "\n",
        "HCF stands for Highest Common Factor, also called GCD (Greatest Common Divisor).\n",
        "\n",
        "\n",
        "\n",
        "*   Problem Meaning : Given two numbers, find the largest number that can divide both of them exactly (Without leaving a remainder).\n",
        "\n",
        "\n",
        "Let’s say the two numbers are: 12 and 18.\n",
        "\n",
        "Their factors (numbers that divide them exactly) are:\n",
        "\n",
        "Factors of 12 → 1, 2, 3, 4, 6, 12\n",
        "\n",
        "Factors of 18 → 1, 2, 3, 6, 9, 18\n",
        "\n",
        "Common factors = 1, 2, 3, 6\n",
        "\n",
        " The highest one is 6, so:\n",
        "\n",
        " HCF(12, 18) = 6\n"
      ],
      "metadata": {
        "id": "qTWUv2zVDWIx"
      }
    },
    {
      "cell_type": "code",
      "source": [
        "# Step 1: Define a function to find HCF\n",
        "def find_hcf(x,y):\n",
        "  hcf = 1\n",
        "  # Step 2 : Find the smaller number (We  only need to check up to this)\n",
        "  if x > y:\n",
        "    smaller = y\n",
        "  else:\n",
        "    smaller = x\n",
        "  # Step 3 : Loop from 1 to smaller number\n",
        "  for i in range (1, smaller+1):\n",
        "    # Step 4 : Check if both number are divisible by i\n",
        "    if ( x % i==0 ) and (y % i ==0):\n",
        "      hcf = i # Update hcf When a common factor is found\n",
        "  # Step 5 : Return the final HCF\n",
        "  return hcf\n",
        "\n",
        "# Step 6 : Get input from the user (optional)\n",
        "num1 = int(input('Enter First Number : '))\n",
        "num2 = int(input('Enter Second Number : '))\n",
        "\n",
        "# Step 7 : Call the function and print the result\n",
        "print('The HCF of', num1, 'and', num2, 'is', find_hcf(num1, num2))\n",
        "\n",
        ""
      ],
      "metadata": {
        "colab": {
          "base_uri": "https://localhost:8080/"
        },
        "id": "jAzr4N3RATVE",
        "outputId": "6b4b3a73-790e-4e2a-9f22-44903b86c225"
      },
      "execution_count": 8,
      "outputs": [
        {
          "output_type": "stream",
          "name": "stdout",
          "text": [
            "Enter First Number : 12\n",
            "Enter Second Number : 18\n",
            "The HCF of 12 and 18 is 6\n"
          ]
        }
      ]
    },
    {
      "cell_type": "markdown",
      "source": [
        "💡 Why is it Useful?\n",
        "\n",
        " * Dividing things evenly:\n",
        "If you have 12 and 18 chocolates, HCF tells you the largest number of equal-sized packs you can make."
      ],
      "metadata": {
        "id": "11ELWyv0IQWL"
      }
    },
    {
      "cell_type": "code",
      "source": [],
      "metadata": {
        "id": "GofVdi7GIOWp"
      },
      "execution_count": null,
      "outputs": []
    }
  ]
}